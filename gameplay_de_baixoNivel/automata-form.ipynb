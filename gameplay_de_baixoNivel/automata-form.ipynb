{
 "cells": [
  {
   "cell_type": "code",
   "execution_count": null,
   "id": "3261b42e",
   "metadata": {},
   "outputs": [],
   "source": [
    "import pyautogui as py\n",
    "import time"
   ]
  },
  {
   "cell_type": "code",
   "execution_count": 17,
   "id": "1a6d3229",
   "metadata": {},
   "outputs": [
    {
     "ename": "FailSafeException",
     "evalue": "PyAutoGUI fail-safe triggered from mouse moving to a corner of the screen. To disable this fail-safe, set pyautogui.FAILSAFE to False. DISABLING FAIL-SAFE IS NOT RECOMMENDED.",
     "output_type": "error",
     "traceback": [
      "\u001b[1;31m---------------------------------------------------------------------------\u001b[0m",
      "\u001b[1;31mFailSafeException\u001b[0m                         Traceback (most recent call last)",
      "Cell \u001b[1;32mIn[17], line 54\u001b[0m\n\u001b[0;32m     52\u001b[0m py\u001b[38;5;241m.\u001b[39mpress(\u001b[38;5;124m'\u001b[39m\u001b[38;5;124mf5\u001b[39m\u001b[38;5;124m'\u001b[39m)\n\u001b[0;32m     53\u001b[0m time\u001b[38;5;241m.\u001b[39msleep(\u001b[38;5;241m5\u001b[39m)\n\u001b[1;32m---> 54\u001b[0m py\u001b[38;5;241m.\u001b[39mclick(\u001b[38;5;241m449\u001b[39m, \u001b[38;5;241m248\u001b[39m)\n",
      "File \u001b[1;32m~\\AppData\\Roaming\\Python\\Python311\\site-packages\\pyautogui\\__init__.py:593\u001b[0m, in \u001b[0;36m_genericPyAutoGUIChecks.<locals>.wrapper\u001b[1;34m(*args, **kwargs)\u001b[0m\n\u001b[0;32m    591\u001b[0m \u001b[38;5;129m@functools\u001b[39m\u001b[38;5;241m.\u001b[39mwraps(wrappedFunction)\n\u001b[0;32m    592\u001b[0m \u001b[38;5;28;01mdef\u001b[39;00m \u001b[38;5;21mwrapper\u001b[39m(\u001b[38;5;241m*\u001b[39margs, \u001b[38;5;241m*\u001b[39m\u001b[38;5;241m*\u001b[39mkwargs):\n\u001b[1;32m--> 593\u001b[0m     failSafeCheck()\n\u001b[0;32m    594\u001b[0m     returnVal \u001b[38;5;241m=\u001b[39m wrappedFunction(\u001b[38;5;241m*\u001b[39margs, \u001b[38;5;241m*\u001b[39m\u001b[38;5;241m*\u001b[39mkwargs)\n\u001b[0;32m    595\u001b[0m     _handlePause(kwargs\u001b[38;5;241m.\u001b[39mget(\u001b[38;5;124m\"\u001b[39m\u001b[38;5;124m_pause\u001b[39m\u001b[38;5;124m\"\u001b[39m, \u001b[38;5;28;01mTrue\u001b[39;00m))\n",
      "File \u001b[1;32m~\\AppData\\Roaming\\Python\\Python311\\site-packages\\pyautogui\\__init__.py:1734\u001b[0m, in \u001b[0;36mfailSafeCheck\u001b[1;34m()\u001b[0m\n\u001b[0;32m   1732\u001b[0m \u001b[38;5;28;01mdef\u001b[39;00m \u001b[38;5;21mfailSafeCheck\u001b[39m():\n\u001b[0;32m   1733\u001b[0m     \u001b[38;5;28;01mif\u001b[39;00m FAILSAFE \u001b[38;5;129;01mand\u001b[39;00m \u001b[38;5;28mtuple\u001b[39m(position()) \u001b[38;5;129;01min\u001b[39;00m FAILSAFE_POINTS:\n\u001b[1;32m-> 1734\u001b[0m         \u001b[38;5;28;01mraise\u001b[39;00m FailSafeException(\n\u001b[0;32m   1735\u001b[0m             \u001b[38;5;124m\"\u001b[39m\u001b[38;5;124mPyAutoGUI fail-safe triggered from mouse moving to a corner of the screen. To disable this fail-safe, set pyautogui.FAILSAFE to False. DISABLING FAIL-SAFE IS NOT RECOMMENDED.\u001b[39m\u001b[38;5;124m\"\u001b[39m\n\u001b[0;32m   1736\u001b[0m         )\n",
      "\u001b[1;31mFailSafeException\u001b[0m: PyAutoGUI fail-safe triggered from mouse moving to a corner of the screen. To disable this fail-safe, set pyautogui.FAILSAFE to False. DISABLING FAIL-SAFE IS NOT RECOMMENDED."
     ]
    }
   ],
   "source": [
    "link = 'http://127.0.0.1:5500/1000/index.html'\n",
    "\n",
    "py.press('win')\n",
    "py.write('edge')\n",
    "py.press('enter')\n",
    "time.sleep(2)\n",
    "py.write(link)\n",
    "py.press('enter')\n",
    "time.sleep(2)\n",
    "for i in range(5):\n",
    "    py.press('tab')\n",
    "\n",
    "nomes_completos = [\n",
    "    \"Ruan Henry\", \n",
    "    \"Ana Souza\", \n",
    "    \"Carlos Pereira\", \n",
    "    \"Fernanda Lima\", \n",
    "    \"Beatriz Costa\", \n",
    "    \"Eduardo Silva\", \n",
    "    \"Ricardo Almeida\", \n",
    "    \"Juliana Rocha\", \n",
    "    \"Roberta Martins\", \n",
    "    \"Lucas Souza\", \n",
    "    \"Patricia Oliveira\", \n",
    "    \"Marcos Mendes\", \n",
    "    \"Paula Santos\", \n",
    "    \"Rafael Gomes\", \n",
    "    \"Isabela Pinto\", \n",
    "    \"Gabriel Cardoso\", \n",
    "    \"Camila Duarte\", \n",
    "    \"Vinicius Alves\", \n",
    "    \"Luana Costa\", \n",
    "    \"Renato Silva\"\n",
    "]\n",
    "\n",
    "for j in range(19):\n",
    "    time.sleep(2)\n",
    "    py.write(nomes_completos[j])\n",
    "    py.press('tab')\n",
    "    time.sleep(2)\n",
    "    py.write('user')\n",
    "    py.press('tab')\n",
    "    time.sleep(2)\n",
    "    py.write('senha1')\n",
    "    py.press('tab')\n",
    "    time.sleep(2)\n",
    "    py.write('senha1')\n",
    "    time.sleep(1)\n",
    "    py.press('tab')\n",
    "    py.press('enter')\n",
    "    time.sleep(3)\n",
    "    py.press('f5')\n",
    "    time.sleep(5)\n",
    "    py.click(449, 248)"
   ]
  },
  {
   "cell_type": "code",
   "execution_count": 10,
   "id": "49c089c3",
   "metadata": {
    "scrolled": false
   },
   "outputs": [
    {
     "data": {
      "text/plain": [
       "Point(x=449, y=248)"
      ]
     },
     "execution_count": 10,
     "metadata": {},
     "output_type": "execute_result"
    }
   ],
   "source": [
    "time.sleep(5)\n",
    "py.position()"
   ]
  },
  {
   "cell_type": "code",
   "execution_count": 12,
   "id": "0fab916d",
   "metadata": {},
   "outputs": [
    {
     "ename": "FailSafeException",
     "evalue": "PyAutoGUI fail-safe triggered from mouse moving to a corner of the screen. To disable this fail-safe, set pyautogui.FAILSAFE to False. DISABLING FAIL-SAFE IS NOT RECOMMENDED.",
     "output_type": "error",
     "traceback": [
      "\u001b[1;31m---------------------------------------------------------------------------\u001b[0m",
      "\u001b[1;31mFailSafeException\u001b[0m                         Traceback (most recent call last)",
      "Cell \u001b[1;32mIn[12], line 44\u001b[0m\n\u001b[0;32m     42\u001b[0m py\u001b[38;5;241m.\u001b[39mwrite(nomes_completos[j])\n\u001b[0;32m     43\u001b[0m time\u001b[38;5;241m.\u001b[39msleep(\u001b[38;5;241m2\u001b[39m)\n\u001b[1;32m---> 44\u001b[0m py\u001b[38;5;241m.\u001b[39mpress(\u001b[38;5;124m'\u001b[39m\u001b[38;5;124mtab\u001b[39m\u001b[38;5;124m'\u001b[39m)\n\u001b[0;32m     45\u001b[0m py\u001b[38;5;241m.\u001b[39mpress(\u001b[38;5;124m'\u001b[39m\u001b[38;5;124menter\u001b[39m\u001b[38;5;124m'\u001b[39m)\n\u001b[0;32m     46\u001b[0m time\u001b[38;5;241m.\u001b[39msleep(\u001b[38;5;241m2\u001b[39m)\n",
      "File \u001b[1;32m~\\AppData\\Roaming\\Python\\Python311\\site-packages\\pyautogui\\__init__.py:593\u001b[0m, in \u001b[0;36m_genericPyAutoGUIChecks.<locals>.wrapper\u001b[1;34m(*args, **kwargs)\u001b[0m\n\u001b[0;32m    591\u001b[0m \u001b[38;5;129m@functools\u001b[39m\u001b[38;5;241m.\u001b[39mwraps(wrappedFunction)\n\u001b[0;32m    592\u001b[0m \u001b[38;5;28;01mdef\u001b[39;00m \u001b[38;5;21mwrapper\u001b[39m(\u001b[38;5;241m*\u001b[39margs, \u001b[38;5;241m*\u001b[39m\u001b[38;5;241m*\u001b[39mkwargs):\n\u001b[1;32m--> 593\u001b[0m     failSafeCheck()\n\u001b[0;32m    594\u001b[0m     returnVal \u001b[38;5;241m=\u001b[39m wrappedFunction(\u001b[38;5;241m*\u001b[39margs, \u001b[38;5;241m*\u001b[39m\u001b[38;5;241m*\u001b[39mkwargs)\n\u001b[0;32m    595\u001b[0m     _handlePause(kwargs\u001b[38;5;241m.\u001b[39mget(\u001b[38;5;124m\"\u001b[39m\u001b[38;5;124m_pause\u001b[39m\u001b[38;5;124m\"\u001b[39m, \u001b[38;5;28;01mTrue\u001b[39;00m))\n",
      "File \u001b[1;32m~\\AppData\\Roaming\\Python\\Python311\\site-packages\\pyautogui\\__init__.py:1734\u001b[0m, in \u001b[0;36mfailSafeCheck\u001b[1;34m()\u001b[0m\n\u001b[0;32m   1732\u001b[0m \u001b[38;5;28;01mdef\u001b[39;00m \u001b[38;5;21mfailSafeCheck\u001b[39m():\n\u001b[0;32m   1733\u001b[0m     \u001b[38;5;28;01mif\u001b[39;00m FAILSAFE \u001b[38;5;129;01mand\u001b[39;00m \u001b[38;5;28mtuple\u001b[39m(position()) \u001b[38;5;129;01min\u001b[39;00m FAILSAFE_POINTS:\n\u001b[1;32m-> 1734\u001b[0m         \u001b[38;5;28;01mraise\u001b[39;00m FailSafeException(\n\u001b[0;32m   1735\u001b[0m             \u001b[38;5;124m\"\u001b[39m\u001b[38;5;124mPyAutoGUI fail-safe triggered from mouse moving to a corner of the screen. To disable this fail-safe, set pyautogui.FAILSAFE to False. DISABLING FAIL-SAFE IS NOT RECOMMENDED.\u001b[39m\u001b[38;5;124m\"\u001b[39m\n\u001b[0;32m   1736\u001b[0m         )\n",
      "\u001b[1;31mFailSafeException\u001b[0m: PyAutoGUI fail-safe triggered from mouse moving to a corner of the screen. To disable this fail-safe, set pyautogui.FAILSAFE to False. DISABLING FAIL-SAFE IS NOT RECOMMENDED."
     ]
    }
   ],
   "source": [
    "import pyautogui as py\n",
    "import time\n",
    "\n",
    "link = 'http://127.0.0.1:5500/1000/1000/index.html'\n",
    "\n",
    "py.press('win')\n",
    "py.write('edge')\n",
    "py.press('enter')\n",
    "time.sleep(2)\n",
    "py.write(link)\n",
    "py.press('enter')\n",
    "time.sleep(2)\n",
    "for i in range(5):\n",
    "    py.press('tab')\n",
    "\n",
    "nomes_completos = [\n",
    "    \"Ruan Henry\", \n",
    "    \"Ana Souza\", \n",
    "    \"Carlos Pereira\", \n",
    "    \"Fernanda Lima\", \n",
    "    \"Beatriz Costa\", \n",
    "    \"Eduardo Silva\", \n",
    "    \"Ricardo Almeida\", \n",
    "    \"Juliana Rocha\", \n",
    "    \"Roberta Martins\", \n",
    "    \"Lucas Souza\", \n",
    "    \"Patricia Oliveira\", \n",
    "    \"Marcos Mendes\", \n",
    "    \"Paula Santos\", \n",
    "    \"Rafael Gomes\", \n",
    "    \"Isabela Pinto\", \n",
    "    \"Gabriel Cardoso\", \n",
    "    \"Camila Duarte\", \n",
    "    \"Vinicius Alves\", \n",
    "    \"Luana Costa\", \n",
    "    \"Renato Silva\"\n",
    "]\n",
    "\n",
    "#comentar outros campos do formulario no html\n",
    "\n",
    "for j in range(20):\n",
    "    py.write(nomes_completos[j])\n",
    "    time.sleep(2)\n",
    "    py.press('tab')\n",
    "    py.press('enter')\n",
    "    time.sleep(2)\n",
    "    py.hotkey('shift', 'tab')\n",
    "    "
   ]
  },
  {
   "cell_type": "code",
   "execution_count": null,
   "id": "3995008b",
   "metadata": {},
   "outputs": [],
   "source": []
  }
 ],
 "metadata": {
  "kernelspec": {
   "display_name": "Python 3 (ipykernel)",
   "language": "python",
   "name": "python3"
  },
  "language_info": {
   "codemirror_mode": {
    "name": "ipython",
    "version": 3
   },
   "file_extension": ".py",
   "mimetype": "text/x-python",
   "name": "python",
   "nbconvert_exporter": "python",
   "pygments_lexer": "ipython3",
   "version": "3.11.5"
  }
 },
 "nbformat": 4,
 "nbformat_minor": 5
}
