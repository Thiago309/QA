{
 "cells": [
  {
   "cell_type": "code",
   "execution_count": null,
   "id": "9db14e12-d07a-4847-94a0-e30d589e460a",
   "metadata": {},
   "outputs": [],
   "source": [
    "import pyautogui\n",
    "import time\n"
   ]
  },
  {
   "cell_type": "code",
   "execution_count": 39,
   "id": "7bc0d204-5298-4649-8303-a141554b714e",
   "metadata": {
    "tags": []
   },
   "outputs": [],
   "source": [
    "pyautogui.press(\"win\")\n",
    "time.sleep(4)\n",
    "pyautogui.write(\"Edge\")\n",
    "time.sleep(4)\n",
    "pyautogui.press(\"enter\")\n",
    "time.sleep(4)\n",
    "pyautogui.write(\"file:///C:/Users/thiago.vsantos/Documents/GitHub/QA/Aula_02(1)/1000/index.html\")\n",
    "time.sleep(4)\n",
    "pyautogui.press(\"enter\")\n",
    "\n",
    "num_interactions = 6\n",
    "\n",
    "time.sleep(1)\n",
    "pyautogui.press(\"tab\")\n",
    "time.sleep(1)\n",
    "pyautogui.press(\"tab\")\n",
    "time.sleep(1)\n",
    "pyautogui.press(\"tab\")\n",
    "time.sleep(1)\n",
    "pyautogui.press(\"tab\")\n",
    "time.sleep(1)\n",
    "pyautogui.press(\"tab\")\n",
    "pyautogui.write(\"Estressando123@268797693!\")\n",
    "time.sleep(1)\n",
    "pyautogui.press(\"tab\")\n",
    "time.sleep(1)\n",
    "pyautogui.press(\"tab\")\n",
    "time.sleep(1)\n",
    "pyautogui.press(\"tab\")\n",
    "time.sleep(1)\n",
    "pyautogui.press(\"tab\")\n",
    "pyautogui.press(\"enter\")\n",
    "\n",
    "for i in range(num_interactions):\n",
    "    time.sleep(1)\n",
    "    pyautogui.press(\"tab\")\n",
    "    time.sleep(1)\n",
    "    pyautogui.press(\"tab\")\n",
    "    time.sleep(1)\n",
    "    pyautogui.press(\"tab\")\n",
    "    pyautogui.press(\"enter\")\n",
    "        "
   ]
  }
 ],
 "metadata": {
  "kernelspec": {
   "display_name": "Python 3 (ipykernel)",
   "language": "python",
   "name": "python3"
  },
  "language_info": {
   "codemirror_mode": {
    "name": "ipython",
    "version": 3
   },
   "file_extension": ".py",
   "mimetype": "text/x-python",
   "name": "python",
   "nbconvert_exporter": "python",
   "pygments_lexer": "ipython3",
   "version": "3.11.5"
  }
 },
 "nbformat": 4,
 "nbformat_minor": 5
}
