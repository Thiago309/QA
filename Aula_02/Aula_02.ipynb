{
 "cells": [
  {
   "cell_type": "code",
   "execution_count": 1,
   "id": "9c201415-7b4b-41b3-b27e-37243da948e1",
   "metadata": {},
   "outputs": [
    {
     "name": "stdout",
     "output_type": "stream",
     "text": [
      "Defaulting to user installation because normal site-packages is not writeable\n",
      "Collecting py\n",
      "  Obtaining dependency information for py from https://files.pythonhosted.org/packages/f6/f0/10642828a8dfb741e5f3fbaac830550a518a775c7fff6f04a007259b0548/py-1.11.0-py2.py3-none-any.whl.metadata\n",
      "  Downloading py-1.11.0-py2.py3-none-any.whl.metadata (2.8 kB)\n",
      "Downloading py-1.11.0-py2.py3-none-any.whl (98 kB)\n",
      "   ---------------------------------------- 0.0/98.7 kB ? eta -:--:--\n",
      "   ---- ----------------------------------- 10.2/98.7 kB ? eta -:--:--\n",
      "   ---- ----------------------------------- 10.2/98.7 kB ? eta -:--:--\n",
      "   ---------------- ----------------------- 41.0/98.7 kB 393.8 kB/s eta 0:00:01\n",
      "   ---------------------------------------- 98.7/98.7 kB 707.7 kB/s eta 0:00:00\n",
      "Installing collected packages: py\n",
      "Successfully installed py-1.11.0\n",
      "Note: you may need to restart the kernel to use updated packages.\n"
     ]
    }
   ],
   "source": [
    "pip install py"
   ]
  },
  {
   "cell_type": "code",
   "execution_count": 10,
   "id": "9db14e12-d07a-4847-94a0-e30d589e460a",
   "metadata": {
    "tags": []
   },
   "outputs": [],
   "source": [
    "import pyautogui\n",
    "import time"
   ]
  },
  {
   "cell_type": "code",
   "execution_count": null,
   "id": "7bc0d204-5298-4649-8303-a141554b714e",
   "metadata": {
    "tags": []
   },
   "outputs": [],
   "source": [
    "pyautogui.press(\"win\")\n",
    "time.sleep(3)\n",
    "pyautogui.write(\"Edge\")\n",
    "time.sleep(3)\n",
    "pyautogui.press(\"enter\")\n",
    "time.sleep(3)\n",
    "pyautogui.write(\"http://127.0.0.1:5500/index.html\")\n",
    "time.sleep(3)\n",
    "pyautogui.press(\"enter\")\n",
    "\n",
    "cont = 0\n",
    "nomes = [\n",
    "    \"João Silva\", \"Maria Oliveira\", \"Carlos Souza\", \"Ana Costa\", \"Pedro Santos\",\n",
    "    \"Laura Mendes\", \"Lucas Ferreira\", \"Juliana Almeida\", \"Marcos Ribeiro\", \"Fernanda Lima\",\n",
    "    \"Rafael Gonçalves\", \"Patrícia Martins\", \"Daniel Carvalho\", \"Amanda Araújo\", \"Bruno Rocha\",\n",
    "    \"Cristina Pereira\", \"Eduardo Barros\", \"Vanessa Nunes\", \"Roberto Castro\", \"Tatiana Dias\"\n",
    "]\n",
    "\n",
    "print(nomes)\n",
    "\n",
    "while cont <= 20:\n",
    "    pyautogui.press(\"tab\")\n",
    "    time.sleep(1)\n",
    "    pyautogui.press(\"tab\")\n",
    "    time.sleep(1)\n",
    "    pyautogui.press(\"tab\")\n",
    "    time.sleep(1)\n",
    "    pyautogui.press(\"tab\")\n",
    "    time.sleep(1)\n",
    "    pyautogui.press(\"tab\")\n",
    "    time.sleep(1)\n",
    "    pyautogui.write(nomes[cont])\n",
    "    pyautogui.press(\"tab\")\n",
    "    time.sleep(1)\n",
    "    pyautogui.press('enter')\n",
    "    cont=+1\n",
    "        "
   ]
  },
  {
   "cell_type": "code",
   "execution_count": null,
   "id": "34e13c0b-2ef1-4f76-a0a2-e8a9c836903b",
   "metadata": {},
   "outputs": [],
   "source": [
    "autogui.write(\"file:///C:/Users/thiago.vsantos/Documents/GitHub/QA/Aula_02(1)/1000/index.html\")"
   ]
  }
 ],
 "metadata": {
  "kernelspec": {
   "display_name": "Python 3 (ipykernel)",
   "language": "python",
   "name": "python3"
  },
  "language_info": {
   "codemirror_mode": {
    "name": "ipython",
    "version": 3
   },
   "file_extension": ".py",
   "mimetype": "text/x-python",
   "name": "python",
   "nbconvert_exporter": "python",
   "pygments_lexer": "ipython3",
   "version": "3.11.5"
  }
 },
 "nbformat": 4,
 "nbformat_minor": 5
}
