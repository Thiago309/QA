{
 "cells": [
  {
   "cell_type": "code",
   "execution_count": 6,
   "id": "33dfed79-3406-48b7-b0f8-8ba768eb744e",
   "metadata": {},
   "outputs": [],
   "source": [
    "import pyautogui\n",
    "import time\n",
    "\n",
    "pyautogui.press(\"win\")\n",
    "time.sleep(3)\n",
    "pyautogui.write(\"Edge\")\n",
    "time.sleep(3)\n",
    "pyautogui.press(\"enter\")"
   ]
  },
  {
   "cell_type": "code",
   "execution_count": 1,
   "id": "35e642a5-7a34-410d-8417-c2b67110a831",
   "metadata": {
    "tags": []
   },
   "outputs": [
    {
     "ename": "NameError",
     "evalue": "name 'pyautogui' is not defined",
     "output_type": "error",
     "traceback": [
      "\u001b[1;31m---------------------------------------------------------------------------\u001b[0m",
      "\u001b[1;31mNameError\u001b[0m                                 Traceback (most recent call last)",
      "Cell \u001b[1;32mIn[1], line 1\u001b[0m\n\u001b[1;32m----> 1\u001b[0m pyautogui\u001b[38;5;241m.\u001b[39mpress(\u001b[38;5;124m\"\u001b[39m\u001b[38;5;124mwin\u001b[39m\u001b[38;5;124m\"\u001b[39m)\n\u001b[0;32m      2\u001b[0m time\u001b[38;5;241m.\u001b[39msleep(\u001b[38;5;241m4\u001b[39m)\n\u001b[0;32m      3\u001b[0m pyautogui\u001b[38;5;241m.\u001b[39mwrite(\u001b[38;5;124m\"\u001b[39m\u001b[38;5;124mEdge\u001b[39m\u001b[38;5;124m\"\u001b[39m)\n",
      "\u001b[1;31mNameError\u001b[0m: name 'pyautogui' is not defined"
     ]
    }
   ],
   "source": [
    "pyautogui.press(\"win\")\n",
    "time.sleep(4)\n",
    "pyautogui.write(\"Edge\")\n",
    "time.sleep(4)\n",
    "pyautogui.press(\"enter\")\n",
    "time.sleep(4)\n",
    "pyautogui.write(\"file:///C:/Users/Aluno/Documents/QA/Index.html\")\n",
    "time.sleep(4)\n",
    "pyautogui.press(\"enter\")\n",
    "time.sleep(4)\n",
    "pyautogui.press(\"tab\")\n",
    "time.sleep(4)\n",
    "pyautogui.write(\"Digite aqui\")"
   ]
  },
  {
   "cell_type": "code",
   "execution_count": null,
   "id": "46e95f43-035e-4d38-a8e6-5881dcce2b2f",
   "metadata": {},
   "outputs": [],
   "source": []
  }
 ],
 "metadata": {
  "kernelspec": {
   "display_name": "Python 3 (ipykernel)",
   "language": "python",
   "name": "python3"
  },
  "language_info": {
   "codemirror_mode": {
    "name": "ipython",
    "version": 3
   },
   "file_extension": ".py",
   "mimetype": "text/x-python",
   "name": "python",
   "nbconvert_exporter": "python",
   "pygments_lexer": "ipython3",
   "version": "3.11.5"
  }
 },
 "nbformat": 4,
 "nbformat_minor": 5
}
