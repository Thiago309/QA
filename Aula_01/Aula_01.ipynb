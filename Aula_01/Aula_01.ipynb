{
 "cells": [
  {
   "cell_type": "code",
   "execution_count": 6,
   "id": "33dfed79-3406-48b7-b0f8-8ba768eb744e",
   "metadata": {},
   "outputs": [],
   "source": [
    "import pyautogui\n",
    "import time\n",
    "\n",
    "pyautogui.press(\"win\")\n",
    "time.sleep(3)\n",
    "pyautogui.write(\"Edge\")\n",
    "time.sleep(3)\n",
    "pyautogui.press(\"enter\")"
   ]
  },
  {
   "cell_type": "code",
   "execution_count": 20,
   "id": "35e642a5-7a34-410d-8417-c2b67110a831",
   "metadata": {
    "tags": []
   },
   "outputs": [],
   "source": [
    "pyautogui.press(\"win\")\n",
    "time.sleep(4)\n",
    "pyautogui.write(\"Edge\")\n",
    "time.sleep(4)\n",
    "pyautogui.press(\"enter\")\n",
    "time.sleep(4)\n",
    "pyautogui.write(\"file:///C:/Users/Aluno/Documents/QA/Index.html\")\n",
    "time.sleep(4)\n",
    "pyautogui.press(\"enter\")\n",
    "time.sleep(4)\n",
    "pyautogui.press(\"tab\")\n",
    "time.sleep(4)\n",
    "pyautogui.write(\"Digite aqui\")\n",
    "time.sleep(4)\n"
   ]
  },
  {
   "cell_type": "code",
   "execution_count": null,
   "id": "7a120882-ea9e-4cfb-9900-4572b5c90638",
   "metadata": {},
   "outputs": [],
   "source": []
  }
 ],
 "metadata": {
  "kernelspec": {
   "display_name": "Python 3 (ipykernel)",
   "language": "python",
   "name": "python3"
  },
  "language_info": {
   "codemirror_mode": {
    "name": "ipython",
    "version": 3
   },
   "file_extension": ".py",
   "mimetype": "text/x-python",
   "name": "python",
   "nbconvert_exporter": "python",
   "pygments_lexer": "ipython3",
   "version": "3.11.5"
  }
 },
 "nbformat": 4,
 "nbformat_minor": 5
}
