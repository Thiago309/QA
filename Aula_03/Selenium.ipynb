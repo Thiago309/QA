{
 "cells": [
  {
   "cell_type": "code",
   "execution_count": null,
   "id": "47ef1065-4944-4a80-b5ec-78f52737503f",
   "metadata": {
    "tags": []
   },
   "outputs": [],
   "source": [
    "from selenium import webdriver\n",
    "from selenium.webdriver.chrome.service import Service\n",
    "from webdriver_manager.chrome import ChromeDriverManager\n",
    "from selenium.webdriver.common.by import By\n",
    "import time"
   ]
  },
  {
   "cell_type": "code",
   "execution_count": null,
   "id": "ad79ac62-01d1-4cc9-ae41-03963f232366",
   "metadata": {
    "tags": []
   },
   "outputs": [],
   "source": [
    "# Configuração do ChromeDriver\n",
    "servico = Service(ChromeDriverManager().install())\n",
    "\n",
    "# Inicializa o navegador Chrome\n",
    "navegador = webdriver.Chrome(service=servico)\n",
    "\n",
    "# Abre o site\n",
    "navegador.get(\"C:/Users/thiago.vsantos/Documents/GitHub/QA/gameplay_de_baixoNivel/1000/1000/index.html\")\n",
    "time.sleep(2)\n",
    "# Preencher um campo de usuário (ex: com ID \"username\")\n",
    "campo_usuario = navegador.find_element(By.ID, \"name\")\n",
    "time.sleep(2)\n",
    "campo_usuario.send_keys(\"Thiago Vinicius\")\n",
    "time.sleep(2)\n",
    "\n",
    "# Clicar em um botão de login (ex: com XPATH \"//button[@type='submit']\")\n",
    "botao_login = navegador.find_element(By.XPATH, \"//button[@type='submit']\")\n",
    "botao_login.click()\n",
    "time.sleep(2)\n",
    "navegador.quit()"
   ]
  }
 ],
 "metadata": {
  "kernelspec": {
   "display_name": "Python 3 (ipykernel)",
   "language": "python",
   "name": "python3"
  },
  "language_info": {
   "codemirror_mode": {
    "name": "ipython",
    "version": 3
   },
   "file_extension": ".py",
   "mimetype": "text/x-python",
   "name": "python",
   "nbconvert_exporter": "python",
   "pygments_lexer": "ipython3",
   "version": "3.11.5"
  }
 },
 "nbformat": 4,
 "nbformat_minor": 5
}
