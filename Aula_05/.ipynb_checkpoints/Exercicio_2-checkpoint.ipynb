{
 "cells": [
  {
   "cell_type": "code",
   "execution_count": null,
   "id": "b2686d46-cdf0-455e-8df1-c66494a90299",
   "metadata": {
    "tags": []
   },
   "outputs": [],
   "source": [
    "from selenium import webdriver\n",
    "from selenium.webdriver.chrome.service import Service\n",
    "from webdriver_manager.chrome import ChromeDriverManager\n",
    "from selenium.webdriver.common.by import By\n",
    "import time"
   ]
  },
  {
   "cell_type": "code",
   "execution_count": 9,
   "id": "aedec436-8521-4823-8363-1c44aa7a7aea",
   "metadata": {
    "tags": []
   },
   "outputs": [
    {
     "name": "stdout",
     "output_type": "stream",
     "text": [
      " Iniciando: Todos os campos vazios\n",
      " Dados inseridos: Senha='', Confirmar=''\n",
      "\n",
      " Iniciando: Senha com quantidade de caracteres abaixo do minimo requisitado.\n",
      " Dados inseridos: Senha='sen123', Confirmar='sen123'\n",
      "\n",
      " Iniciando: Senha com mais de 16 caracteres\n",
      " Dados inseridos: Senha='senhalongamasmuitolongamesmo', Confirmar='senhalongamasmuitolongamesmo'\n",
      "\n",
      " Iniciando: Senhas diferentes\n"
     ]
    },
    {
     "ename": "NoSuchElementException",
     "evalue": "Message: no such element: Unable to locate element: {\"method\":\"css selector\",\"selector\":\"[id=\"password\"]\"}\n  (Session info: chrome=135.0.7049.114); For documentation on this error, please visit: https://www.selenium.dev/documentation/webdriver/troubleshooting/errors#no-such-element-exception\nStacktrace:\n\tGetHandleVerifier [0x00007FF695835305+78597]\n\tGetHandleVerifier [0x00007FF695835360+78688]\n\t(No symbol) [0x00007FF6955E91AA]\n\t(No symbol) [0x00007FF69563F149]\n\t(No symbol) [0x00007FF69563F3FC]\n\t(No symbol) [0x00007FF695692467]\n\t(No symbol) [0x00007FF69566712F]\n\t(No symbol) [0x00007FF69568F2BB]\n\t(No symbol) [0x00007FF695666EC3]\n\t(No symbol) [0x00007FF6956303F8]\n\t(No symbol) [0x00007FF695631163]\n\tGetHandleVerifier [0x00007FF695ADEEBD+2870973]\n\tGetHandleVerifier [0x00007FF695AD9668+2848360]\n\tGetHandleVerifier [0x00007FF695AF6943+2967875]\n\tGetHandleVerifier [0x00007FF69585014A+188746]\n\tGetHandleVerifier [0x00007FF69585842F+222255]\n\tGetHandleVerifier [0x00007FF69583D284+111236]\n\tGetHandleVerifier [0x00007FF69583D432+111666]\n\tGetHandleVerifier [0x00007FF695823559+5465]\n\tBaseThreadInitThunk [0x00007FFEC866259D+29]\n\tRtlUserThreadStart [0x00007FFECA98AF38+40]\n",
     "output_type": "error",
     "traceback": [
      "\u001b[1;31m---------------------------------------------------------------------------\u001b[0m",
      "\u001b[1;31mNoSuchElementException\u001b[0m                    Traceback (most recent call last)",
      "Cell \u001b[1;32mIn[9], line 72\u001b[0m\n\u001b[0;32m     70\u001b[0m \u001b[38;5;66;03m# Executa os testes\u001b[39;00m\n\u001b[0;32m     71\u001b[0m \u001b[38;5;28;01mfor\u001b[39;00m teste \u001b[38;5;129;01min\u001b[39;00m testes:\n\u001b[1;32m---> 72\u001b[0m     preencher_e_validar(teste)\n\u001b[0;32m     73\u001b[0m     botao_login \u001b[38;5;241m=\u001b[39m driver\u001b[38;5;241m.\u001b[39mfind_element(By\u001b[38;5;241m.\u001b[39mXPATH, \u001b[38;5;124m\"\u001b[39m\u001b[38;5;124m//button[@type=\u001b[39m\u001b[38;5;124m'\u001b[39m\u001b[38;5;124msubmit\u001b[39m\u001b[38;5;124m'\u001b[39m\u001b[38;5;124m]\u001b[39m\u001b[38;5;124m\"\u001b[39m)\n\u001b[0;32m     74\u001b[0m     botao_login\u001b[38;5;241m.\u001b[39mclick()\n",
      "Cell \u001b[1;32mIn[9], line 46\u001b[0m, in \u001b[0;36mpreencher_e_validar\u001b[1;34m(teste)\u001b[0m\n\u001b[0;32m     43\u001b[0m time\u001b[38;5;241m.\u001b[39msleep(\u001b[38;5;241m1\u001b[39m)\n\u001b[0;32m     45\u001b[0m \u001b[38;5;66;03m# Limpar os campos\u001b[39;00m\n\u001b[1;32m---> 46\u001b[0m driver\u001b[38;5;241m.\u001b[39mfind_element(By\u001b[38;5;241m.\u001b[39mID, \u001b[38;5;124m\"\u001b[39m\u001b[38;5;124mpassword\u001b[39m\u001b[38;5;124m\"\u001b[39m)\u001b[38;5;241m.\u001b[39mclear()\n\u001b[0;32m     47\u001b[0m time\u001b[38;5;241m.\u001b[39msleep(\u001b[38;5;241m1\u001b[39m)\n\u001b[0;32m     48\u001b[0m driver\u001b[38;5;241m.\u001b[39mfind_element(By\u001b[38;5;241m.\u001b[39mID, \u001b[38;5;124m\"\u001b[39m\u001b[38;5;124mpassword_2\u001b[39m\u001b[38;5;124m\"\u001b[39m)\u001b[38;5;241m.\u001b[39mclear()\n",
      "File \u001b[1;32m~\\AppData\\Roaming\\Python\\Python311\\site-packages\\selenium\\webdriver\\remote\\webdriver.py:898\u001b[0m, in \u001b[0;36mWebDriver.find_element\u001b[1;34m(self, by, value)\u001b[0m\n\u001b[0;32m    895\u001b[0m         \u001b[38;5;28;01mraise\u001b[39;00m NoSuchElementException(\u001b[38;5;124mf\u001b[39m\u001b[38;5;124m\"\u001b[39m\u001b[38;5;124mCannot locate relative element with: \u001b[39m\u001b[38;5;132;01m{\u001b[39;00mby\u001b[38;5;241m.\u001b[39mroot\u001b[38;5;132;01m}\u001b[39;00m\u001b[38;5;124m\"\u001b[39m)\n\u001b[0;32m    896\u001b[0m     \u001b[38;5;28;01mreturn\u001b[39;00m elements[\u001b[38;5;241m0\u001b[39m]\n\u001b[1;32m--> 898\u001b[0m \u001b[38;5;28;01mreturn\u001b[39;00m \u001b[38;5;28mself\u001b[39m\u001b[38;5;241m.\u001b[39mexecute(Command\u001b[38;5;241m.\u001b[39mFIND_ELEMENT, {\u001b[38;5;124m\"\u001b[39m\u001b[38;5;124musing\u001b[39m\u001b[38;5;124m\"\u001b[39m: by, \u001b[38;5;124m\"\u001b[39m\u001b[38;5;124mvalue\u001b[39m\u001b[38;5;124m\"\u001b[39m: value})[\u001b[38;5;124m\"\u001b[39m\u001b[38;5;124mvalue\u001b[39m\u001b[38;5;124m\"\u001b[39m]\n",
      "File \u001b[1;32m~\\AppData\\Roaming\\Python\\Python311\\site-packages\\selenium\\webdriver\\remote\\webdriver.py:429\u001b[0m, in \u001b[0;36mWebDriver.execute\u001b[1;34m(self, driver_command, params)\u001b[0m\n\u001b[0;32m    427\u001b[0m response \u001b[38;5;241m=\u001b[39m \u001b[38;5;28mself\u001b[39m\u001b[38;5;241m.\u001b[39mcommand_executor\u001b[38;5;241m.\u001b[39mexecute(driver_command, params)\n\u001b[0;32m    428\u001b[0m \u001b[38;5;28;01mif\u001b[39;00m response:\n\u001b[1;32m--> 429\u001b[0m     \u001b[38;5;28mself\u001b[39m\u001b[38;5;241m.\u001b[39merror_handler\u001b[38;5;241m.\u001b[39mcheck_response(response)\n\u001b[0;32m    430\u001b[0m     response[\u001b[38;5;124m\"\u001b[39m\u001b[38;5;124mvalue\u001b[39m\u001b[38;5;124m\"\u001b[39m] \u001b[38;5;241m=\u001b[39m \u001b[38;5;28mself\u001b[39m\u001b[38;5;241m.\u001b[39m_unwrap_value(response\u001b[38;5;241m.\u001b[39mget(\u001b[38;5;124m\"\u001b[39m\u001b[38;5;124mvalue\u001b[39m\u001b[38;5;124m\"\u001b[39m, \u001b[38;5;28;01mNone\u001b[39;00m))\n\u001b[0;32m    431\u001b[0m     \u001b[38;5;28;01mreturn\u001b[39;00m response\n",
      "File \u001b[1;32m~\\AppData\\Roaming\\Python\\Python311\\site-packages\\selenium\\webdriver\\remote\\errorhandler.py:232\u001b[0m, in \u001b[0;36mErrorHandler.check_response\u001b[1;34m(self, response)\u001b[0m\n\u001b[0;32m    230\u001b[0m         alert_text \u001b[38;5;241m=\u001b[39m value[\u001b[38;5;124m\"\u001b[39m\u001b[38;5;124malert\u001b[39m\u001b[38;5;124m\"\u001b[39m]\u001b[38;5;241m.\u001b[39mget(\u001b[38;5;124m\"\u001b[39m\u001b[38;5;124mtext\u001b[39m\u001b[38;5;124m\"\u001b[39m)\n\u001b[0;32m    231\u001b[0m     \u001b[38;5;28;01mraise\u001b[39;00m exception_class(message, screen, stacktrace, alert_text)  \u001b[38;5;66;03m# type: ignore[call-arg]  # mypy is not smart enough here\u001b[39;00m\n\u001b[1;32m--> 232\u001b[0m \u001b[38;5;28;01mraise\u001b[39;00m exception_class(message, screen, stacktrace)\n",
      "\u001b[1;31mNoSuchElementException\u001b[0m: Message: no such element: Unable to locate element: {\"method\":\"css selector\",\"selector\":\"[id=\"password\"]\"}\n  (Session info: chrome=135.0.7049.114); For documentation on this error, please visit: https://www.selenium.dev/documentation/webdriver/troubleshooting/errors#no-such-element-exception\nStacktrace:\n\tGetHandleVerifier [0x00007FF695835305+78597]\n\tGetHandleVerifier [0x00007FF695835360+78688]\n\t(No symbol) [0x00007FF6955E91AA]\n\t(No symbol) [0x00007FF69563F149]\n\t(No symbol) [0x00007FF69563F3FC]\n\t(No symbol) [0x00007FF695692467]\n\t(No symbol) [0x00007FF69566712F]\n\t(No symbol) [0x00007FF69568F2BB]\n\t(No symbol) [0x00007FF695666EC3]\n\t(No symbol) [0x00007FF6956303F8]\n\t(No symbol) [0x00007FF695631163]\n\tGetHandleVerifier [0x00007FF695ADEEBD+2870973]\n\tGetHandleVerifier [0x00007FF695AD9668+2848360]\n\tGetHandleVerifier [0x00007FF695AF6943+2967875]\n\tGetHandleVerifier [0x00007FF69585014A+188746]\n\tGetHandleVerifier [0x00007FF69585842F+222255]\n\tGetHandleVerifier [0x00007FF69583D284+111236]\n\tGetHandleVerifier [0x00007FF69583D432+111666]\n\tGetHandleVerifier [0x00007FF695823559+5465]\n\tBaseThreadInitThunk [0x00007FFEC866259D+29]\n\tRtlUserThreadStart [0x00007FFECA98AF38+40]\n"
     ]
    }
   ],
   "source": [
    "# Caminho para o seu arquivo HTML local\n",
    "pagina_local = \"file:///C:/Users/thiago.vsantos/Documents/GitHub/QA/gameplay_de_baixoNivel/1000/1000/index.html\"\n",
    "\n",
    "# Inicializar navegador\n",
    "driver = webdriver.Chrome()\n",
    "driver.maximize_window()\n",
    "driver.get(pagina_local)\n",
    "time.sleep(2)  # Aguarda carregamento da página\n",
    "\n",
    "# Lista de testes\n",
    "testes = [\n",
    "    {\n",
    "        \"senha\": \"\", \"senha2\": \"\",\n",
    "        \"descricao\": \"Todos os campos vazios\"\n",
    "    },\n",
    "    {\n",
    "        \"senha\": \"sen123\", \"senha2\": \"sen123\",\n",
    "        \"descricao\": \"Senha com quantidade de caracteres abaixo do minimo requisitado.\"\n",
    "    },\n",
    "    {\n",
    "        \"senha\": \"123456789\", \"senha2\": \"987654321\",\n",
    "        \"descricao\": \"Senhas diferentes\"\n",
    "    },\n",
    "    {\n",
    "        \"senha\": \"senhalongamasmuitolongamesmo\", \"senha2\": \"senhalongamasmuitolongamesmo\",\n",
    "        \"descricao\": \"Senha com mais de 16 caracteres\"\n",
    "    },\n",
    "    {\n",
    "        \"nome\": \"Limpar\", \"usuario\": \"teste\", \"senha\": \"limpo123\", \"senha2\": \"limpo123\",\n",
    "        \"descricao\": \"Campos preenchidos e depois limpos\",\n",
    "        \"limpar\": True\n",
    "    },\n",
    "]\n",
    "\n",
    "# Função de preenchimento\n",
    "def preencher_e_validar(teste):\n",
    "    print(f\" Iniciando: {teste['descricao']}\")\n",
    "    time.sleep(1)\n",
    "\n",
    "    # Limpar os campos\n",
    "    driver.find_element(By.ID, \"password\").clear()\n",
    "    time.sleep(1)\n",
    "    driver.find_element(By.ID, \"password_2\").clear()\n",
    "    time.sleep(1)\n",
    "\n",
    "    # Preencher campos\n",
    "    driver.find_element(By.ID, \"password\").send_keys(teste[\"senha\"])\n",
    "    time.sleep(1)\n",
    "    driver.find_element(By.ID, \"password_2\").send_keys(teste[\"senha2\"])\n",
    "    time.sleep(1)\n",
    "\n",
    "    # Se for um teste de limpeza\n",
    "    if teste.get(\"limpar\", False):\n",
    "        print(\" Limpando campos após preenchimento...\")\n",
    "        driver.find_element(By.ID, \"password\").clear()\n",
    "        time.sleep(1)\n",
    "        driver.find_element(By.ID, \"password_2\").clear()\n",
    "        time.sleep(1)\n",
    "        print(\" Campos limpos.\\n\")\n",
    "    else:\n",
    "        print(f\" Dados inseridos: Senha='{teste['senha']}', Confirmar='{teste['senha2']}'\\n\")\n",
    "\n",
    "    time.sleep(3)  # Espera final para observação\n",
    "\n",
    "# Executa os testes\n",
    "for teste in testes:\n",
    "    preencher_e_validar(teste)\n",
    "    botao_login = driver.find_element(By.XPATH, \"//button[@type='submit']\")\n",
    "    botao_login.click()\n",
    "\n",
    "print(\" Todos os testes foram executados.\")\n",
    "driver.quit()\n"
   ]
  },
  {
   "cell_type": "code",
   "execution_count": null,
   "id": "c82c6955-9735-470f-b10c-455fd535da77",
   "metadata": {},
   "outputs": [],
   "source": []
  }
 ],
 "metadata": {
  "kernelspec": {
   "display_name": "Python 3 (ipykernel)",
   "language": "python",
   "name": "python3"
  },
  "language_info": {
   "codemirror_mode": {
    "name": "ipython",
    "version": 3
   },
   "file_extension": ".py",
   "mimetype": "text/x-python",
   "name": "python",
   "nbconvert_exporter": "python",
   "pygments_lexer": "ipython3",
   "version": "3.11.5"
  }
 },
 "nbformat": 4,
 "nbformat_minor": 5
}
