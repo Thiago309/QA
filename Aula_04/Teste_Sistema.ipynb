{
 "cells": [
  {
   "cell_type": "code",
   "execution_count": 1,
   "id": "7fb390da-bfbb-4cd1-b742-88b9e015f5e2",
   "metadata": {
    "tags": []
   },
   "outputs": [],
   "source": [
    "from selenium import webdriver\n",
    "from selenium.webdriver.chrome.service import Service\n",
    "from webdriver_manager.chrome import ChromeDriverManager\n",
    "from selenium.webdriver.common.by import By\n",
    "import time"
   ]
  },
  {
   "cell_type": "code",
   "execution_count": 5,
   "id": "a48863a8-248d-45c7-aad7-a6b0b2e83923",
   "metadata": {
    "tags": []
   },
   "outputs": [
    {
     "ename": "StaleElementReferenceException",
     "evalue": "Message: stale element reference: stale element not found\n  (Session info: chrome=135.0.7049.85); For documentation on this error, please visit: https://www.selenium.dev/documentation/webdriver/troubleshooting/errors#stale-element-reference-exception\nStacktrace:\n\tGetHandleVerifier [0x00608073+60707]\n\tGetHandleVerifier [0x006080B4+60772]\n\t(No symbol) [0x00430683]\n\t(No symbol) [0x00442081]\n\t(No symbol) [0x00441160]\n\t(No symbol) [0x00437893]\n\t(No symbol) [0x00435D9A]\n\t(No symbol) [0x004390DA]\n\t(No symbol) [0x00439157]\n\t(No symbol) [0x0047A2FA]\n\t(No symbol) [0x0046FB72]\n\t(No symbol) [0x0049D04C]\n\t(No symbol) [0x0046DCA4]\n\t(No symbol) [0x0049D2C4]\n\t(No symbol) [0x004BE824]\n\t(No symbol) [0x0049CE46]\n\t(No symbol) [0x0046C5D3]\n\t(No symbol) [0x0046D424]\n\tGetHandleVerifier [0x0084BB53+2435075]\n\tGetHandleVerifier [0x008470F3+2416035]\n\tGetHandleVerifier [0x0086349C+2531660]\n\tGetHandleVerifier [0x0061F145+155125]\n\tGetHandleVerifier [0x00625AED+182173]\n\tGetHandleVerifier [0x0060F948+91640]\n\tGetHandleVerifier [0x0060FAF0+92064]\n\tGetHandleVerifier [0x005FA5B0+4704]\n\tBaseThreadInitThunk [0x76A87BA9+25]\n\tRtlInitializeExceptionChain [0x77C4C10B+107]\n\tRtlClearBits [0x77C4C08F+191]\n",
     "output_type": "error",
     "traceback": [
      "\u001b[1;31m---------------------------------------------------------------------------\u001b[0m",
      "\u001b[1;31mStaleElementReferenceException\u001b[0m            Traceback (most recent call last)",
      "Cell \u001b[1;32mIn[5], line 23\u001b[0m\n\u001b[0;32m     21\u001b[0m \u001b[38;5;28;01mfor\u001b[39;00m nome \u001b[38;5;129;01min\u001b[39;00m nomes_para_testar:\n\u001b[0;32m     22\u001b[0m     time\u001b[38;5;241m.\u001b[39msleep(\u001b[38;5;241m2\u001b[39m)\n\u001b[1;32m---> 23\u001b[0m     campo_usuario\u001b[38;5;241m.\u001b[39mclear()\n\u001b[0;32m     24\u001b[0m     time\u001b[38;5;241m.\u001b[39msleep(\u001b[38;5;241m2\u001b[39m)\n\u001b[0;32m     25\u001b[0m     campo_usuario\u001b[38;5;241m.\u001b[39msend_keys(nome)\n",
      "File \u001b[1;32m~\\AppData\\Roaming\\Python\\Python311\\site-packages\\selenium\\webdriver\\remote\\webelement.py:154\u001b[0m, in \u001b[0;36mWebElement.clear\u001b[1;34m(self)\u001b[0m\n\u001b[0;32m    146\u001b[0m \u001b[38;5;28;01mdef\u001b[39;00m \u001b[38;5;21mclear\u001b[39m(\u001b[38;5;28mself\u001b[39m) \u001b[38;5;241m-\u001b[39m\u001b[38;5;241m>\u001b[39m \u001b[38;5;28;01mNone\u001b[39;00m:\n\u001b[0;32m    147\u001b[0m \u001b[38;5;250m    \u001b[39m\u001b[38;5;124;03m\"\"\"Clears the text if it's a text entry element.\u001b[39;00m\n\u001b[0;32m    148\u001b[0m \n\u001b[0;32m    149\u001b[0m \u001b[38;5;124;03m    Example:\u001b[39;00m\n\u001b[1;32m   (...)\u001b[0m\n\u001b[0;32m    152\u001b[0m \u001b[38;5;124;03m    >>> text_field.clear()\u001b[39;00m\n\u001b[0;32m    153\u001b[0m \u001b[38;5;124;03m    \"\"\"\u001b[39;00m\n\u001b[1;32m--> 154\u001b[0m     \u001b[38;5;28mself\u001b[39m\u001b[38;5;241m.\u001b[39m_execute(Command\u001b[38;5;241m.\u001b[39mCLEAR_ELEMENT)\n",
      "File \u001b[1;32m~\\AppData\\Roaming\\Python\\Python311\\site-packages\\selenium\\webdriver\\remote\\webelement.py:572\u001b[0m, in \u001b[0;36mWebElement._execute\u001b[1;34m(self, command, params)\u001b[0m\n\u001b[0;32m    570\u001b[0m     params \u001b[38;5;241m=\u001b[39m {}\n\u001b[0;32m    571\u001b[0m params[\u001b[38;5;124m\"\u001b[39m\u001b[38;5;124mid\u001b[39m\u001b[38;5;124m\"\u001b[39m] \u001b[38;5;241m=\u001b[39m \u001b[38;5;28mself\u001b[39m\u001b[38;5;241m.\u001b[39m_id\n\u001b[1;32m--> 572\u001b[0m \u001b[38;5;28;01mreturn\u001b[39;00m \u001b[38;5;28mself\u001b[39m\u001b[38;5;241m.\u001b[39m_parent\u001b[38;5;241m.\u001b[39mexecute(command, params)\n",
      "File \u001b[1;32m~\\AppData\\Roaming\\Python\\Python311\\site-packages\\selenium\\webdriver\\remote\\webdriver.py:429\u001b[0m, in \u001b[0;36mWebDriver.execute\u001b[1;34m(self, driver_command, params)\u001b[0m\n\u001b[0;32m    427\u001b[0m response \u001b[38;5;241m=\u001b[39m \u001b[38;5;28mself\u001b[39m\u001b[38;5;241m.\u001b[39mcommand_executor\u001b[38;5;241m.\u001b[39mexecute(driver_command, params)\n\u001b[0;32m    428\u001b[0m \u001b[38;5;28;01mif\u001b[39;00m response:\n\u001b[1;32m--> 429\u001b[0m     \u001b[38;5;28mself\u001b[39m\u001b[38;5;241m.\u001b[39merror_handler\u001b[38;5;241m.\u001b[39mcheck_response(response)\n\u001b[0;32m    430\u001b[0m     response[\u001b[38;5;124m\"\u001b[39m\u001b[38;5;124mvalue\u001b[39m\u001b[38;5;124m\"\u001b[39m] \u001b[38;5;241m=\u001b[39m \u001b[38;5;28mself\u001b[39m\u001b[38;5;241m.\u001b[39m_unwrap_value(response\u001b[38;5;241m.\u001b[39mget(\u001b[38;5;124m\"\u001b[39m\u001b[38;5;124mvalue\u001b[39m\u001b[38;5;124m\"\u001b[39m, \u001b[38;5;28;01mNone\u001b[39;00m))\n\u001b[0;32m    431\u001b[0m     \u001b[38;5;28;01mreturn\u001b[39;00m response\n",
      "File \u001b[1;32m~\\AppData\\Roaming\\Python\\Python311\\site-packages\\selenium\\webdriver\\remote\\errorhandler.py:232\u001b[0m, in \u001b[0;36mErrorHandler.check_response\u001b[1;34m(self, response)\u001b[0m\n\u001b[0;32m    230\u001b[0m         alert_text \u001b[38;5;241m=\u001b[39m value[\u001b[38;5;124m\"\u001b[39m\u001b[38;5;124malert\u001b[39m\u001b[38;5;124m\"\u001b[39m]\u001b[38;5;241m.\u001b[39mget(\u001b[38;5;124m\"\u001b[39m\u001b[38;5;124mtext\u001b[39m\u001b[38;5;124m\"\u001b[39m)\n\u001b[0;32m    231\u001b[0m     \u001b[38;5;28;01mraise\u001b[39;00m exception_class(message, screen, stacktrace, alert_text)  \u001b[38;5;66;03m# type: ignore[call-arg]  # mypy is not smart enough here\u001b[39;00m\n\u001b[1;32m--> 232\u001b[0m \u001b[38;5;28;01mraise\u001b[39;00m exception_class(message, screen, stacktrace)\n",
      "\u001b[1;31mStaleElementReferenceException\u001b[0m: Message: stale element reference: stale element not found\n  (Session info: chrome=135.0.7049.85); For documentation on this error, please visit: https://www.selenium.dev/documentation/webdriver/troubleshooting/errors#stale-element-reference-exception\nStacktrace:\n\tGetHandleVerifier [0x00608073+60707]\n\tGetHandleVerifier [0x006080B4+60772]\n\t(No symbol) [0x00430683]\n\t(No symbol) [0x00442081]\n\t(No symbol) [0x00441160]\n\t(No symbol) [0x00437893]\n\t(No symbol) [0x00435D9A]\n\t(No symbol) [0x004390DA]\n\t(No symbol) [0x00439157]\n\t(No symbol) [0x0047A2FA]\n\t(No symbol) [0x0046FB72]\n\t(No symbol) [0x0049D04C]\n\t(No symbol) [0x0046DCA4]\n\t(No symbol) [0x0049D2C4]\n\t(No symbol) [0x004BE824]\n\t(No symbol) [0x0049CE46]\n\t(No symbol) [0x0046C5D3]\n\t(No symbol) [0x0046D424]\n\tGetHandleVerifier [0x0084BB53+2435075]\n\tGetHandleVerifier [0x008470F3+2416035]\n\tGetHandleVerifier [0x0086349C+2531660]\n\tGetHandleVerifier [0x0061F145+155125]\n\tGetHandleVerifier [0x00625AED+182173]\n\tGetHandleVerifier [0x0060F948+91640]\n\tGetHandleVerifier [0x0060FAF0+92064]\n\tGetHandleVerifier [0x005FA5B0+4704]\n\tBaseThreadInitThunk [0x76A87BA9+25]\n\tRtlInitializeExceptionChain [0x77C4C10B+107]\n\tRtlClearBits [0x77C4C08F+191]\n"
     ]
    }
   ],
   "source": [
    "# Configuração do ChromeDriver\n",
    "servico = Service(ChromeDriverManager().install())\n",
    "\n",
    "# Inicializa o navegador Chrome\n",
    "navegador = webdriver.Chrome(service=servico)\n",
    "\n",
    "# Abre o site\n",
    "navegador.get(\"C:/Users/thiago.vsantos/Documents/GitHub/QA/gameplay_de_baixoNivel/1000/1000/index.html\")\n",
    "time.sleep(2)\n",
    "\n",
    "nomes_para_testar = [\n",
    "    \"Ana\", \"Carlos Silva\", \"NomeComMuitosCaracteres1234567890\", \"sgfsdertyrteyrteyrt\", \"fadsbrebt984982489\",\"João Silva\", \n",
    "    \"Maria Oliveira\", \"Carlos Souza\", \"Ana Costa\", \"Pedro Santos\",\n",
    "    \"Laura Mendes\", \"Lucas Ferreira\", \"Juliana Almeida\", \"Marcos Ribeiro\", \"Fernanda Lima\",\n",
    "    \"Rafael Gonçalves\", \"Patrícia Martins\", \"Daniel Carvalho\", \"Amanda Araújo\", \"Bruno Rocha\",\n",
    "    \"Cristina Pereira\", \"Eduardo Barros\", \"Vanessa Nunes\", \"Roberto Castro\", \"Tatiana Dias\"\n",
    "]\n",
    "\n",
    "# Preencher um campo de usuário (ex: com ID \"username\")\n",
    "campo_usuario = navegador.find_element(By.ID, \"name\")\n",
    "for nome in nomes_para_testar:\n",
    "    time.sleep(2)\n",
    "    campo_usuario.clear()\n",
    "    time.sleep(2)\n",
    "    campo_usuario.send_keys(nome)\n",
    "    time.sleep(2)\n",
    "    valor = campo_usuario.get_attribute(\"value\")\n",
    "    # Clicar em um botão de login (ex: com XPATH \"//button[@type='submit']\")\n",
    "    botao_login = navegador.find_element(By.XPATH, \"//button[@type='submit']\")\n",
    "    botao_login.click()\n",
    "    time.sleep(2)\n",
    "    \n",
    "navegador.quit()"
   ]
  },
  {
   "cell_type": "code",
   "execution_count": null,
   "id": "1ab59421-acf5-44cb-8b21-0b015b10708f",
   "metadata": {},
   "outputs": [],
   "source": []
  }
 ],
 "metadata": {
  "kernelspec": {
   "display_name": "Python 3 (ipykernel)",
   "language": "python",
   "name": "python3"
  },
  "language_info": {
   "codemirror_mode": {
    "name": "ipython",
    "version": 3
   },
   "file_extension": ".py",
   "mimetype": "text/x-python",
   "name": "python",
   "nbconvert_exporter": "python",
   "pygments_lexer": "ipython3",
   "version": "3.11.5"
  }
 },
 "nbformat": 4,
 "nbformat_minor": 5
}
